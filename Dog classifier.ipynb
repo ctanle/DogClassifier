{
 "cells": [
  {
   "cell_type": "code",
   "execution_count": null,
   "id": "16de10f3-f76e-434d-a3bc-54f6b7bf88bd",
   "metadata": {},
   "outputs": [],
   "source": [
    "from fastbook import *\n",
    "from fastai.vision.widgets import *"
   ]
  },
  {
   "cell_type": "markdown",
   "id": "385f97c0-52fe-435d-a56e-5e9866c2f8fb",
   "metadata": {
    "tags": []
   },
   "source": [
    "### Это что за собака такая?\n",
    "\n",
    "Этот инструмент позволяет определить, какой породы собака на фото. Внимание: инструмент знает о существовании только лабрадудлей, лабрадоров, пуделей и мальтипу. Других псов он не рапознает, как и, например, псориаз или Доггербанк."
   ]
  },
  {
   "cell_type": "code",
   "execution_count": null,
   "id": "28a3e731-71ae-4ebf-84a8-fac99b5ddd08",
   "metadata": {},
   "outputs": [],
   "source": [
    "path = Path()\n",
    "learn_inf = load_learner(path/'export.pkl', cpu=True)\n",
    "btn_upload = widgets.FileUpload()\n",
    "out_pl = widgets.Output()\n",
    "lbl_pred = widgets.Label()"
   ]
  },
  {
   "cell_type": "code",
   "execution_count": null,
   "id": "6cc38168-1cfa-42a6-808f-7ee9fc137d76",
   "metadata": {},
   "outputs": [],
   "source": [
    "def on_data_change(change):\n",
    "    lbl_pred.value = ''\n",
    "    img = PILImage.create(btn_upload.data[-1])\n",
    "    out_pl.clear_output()\n",
    "    with out_pl: display(img.to_thumb(128,128))\n",
    "    pred,pred_idx,probs = learn_inf.predict(img)\n",
    "    lbl_pred.value = f'Prediction: {pred}; Probability: {probs[pred_idx]:.04f}'"
   ]
  },
  {
   "cell_type": "code",
   "execution_count": null,
   "id": "1e23c993-9d4e-4eaf-9c8b-0769c0bdb169",
   "metadata": {},
   "outputs": [],
   "source": [
    "btn_upload.observe(on_data_change, names=['data'])"
   ]
  },
  {
   "cell_type": "code",
   "execution_count": null,
   "id": "72656530-0b32-41d9-a6cc-585a27456d25",
   "metadata": {},
   "outputs": [],
   "source": [
    "display(VBox([widgets.Label('Select your dog!'), btn_upload, out_pl, lbl_pred]))"
   ]
  },
  {
   "cell_type": "code",
   "execution_count": null,
   "id": "75ba3fd1-9907-4bb2-b8bc-4ecb316f18ff",
   "metadata": {},
   "outputs": [],
   "source": []
  }
 ],
 "metadata": {
  "kernelspec": {
   "display_name": "Python 3 (ipykernel)",
   "language": "python",
   "name": "python3"
  },
  "language_info": {
   "codemirror_mode": {
    "name": "ipython",
    "version": 3
   },
   "file_extension": ".py",
   "mimetype": "text/x-python",
   "name": "python",
   "nbconvert_exporter": "python",
   "pygments_lexer": "ipython3",
   "version": "3.7.11"
  }
 },
 "nbformat": 4,
 "nbformat_minor": 5
}
